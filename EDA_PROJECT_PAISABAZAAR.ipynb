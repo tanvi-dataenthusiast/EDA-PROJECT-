{
  "cells": [
    {
      "cell_type": "markdown",
      "metadata": {
        "id": "view-in-github",
        "colab_type": "text"
      },
      "source": [
        "<a href=\"https://colab.research.google.com/github/tanvi-dataenthusiast/EDA-PROJECT-/blob/main/EDA_PROJECT_PAISABAZAAR.ipynb\" target=\"_parent\"><img src=\"https://colab.research.google.com/assets/colab-badge.svg\" alt=\"Open In Colab\"/></a>"
      ]
    },
    {
      "cell_type": "markdown",
      "source": [
        "# **PROJECT NAME- PAISABAZAAR BANKING FRAUD ANALYSIS**"
      ],
      "metadata": {
        "id": "zFGxsgb8cR2M"
      }
    },
    {
      "cell_type": "markdown",
      "source": [
        "**Project Type - EDA**\n",
        "\n",
        "**Contribution - Individual**\n",
        "\n",
        "**Name         -** **Tanvi Rastogi**\n"
      ],
      "metadata": {
        "id": "p-j7IXIScund"
      }
    },
    {
      "cell_type": "markdown",
      "source": [
        "# **Project Summary -**"
      ],
      "metadata": {
        "id": "Vl_gaMzoqvHi"
      }
    },
    {
      "cell_type": "markdown",
      "source": [
        "# **BUSINESS PROBLEM OVERVIEW**\n",
        "\n",
        "Paisabazaar, a leading financial services company, plays a key role in helping customers choose and apply for credit cards, loans, and other banking products. One of the most critical parts of their operations is assessing a customer’s creditworthiness. This is mainly done using the credit score, which serves as an important indicator of how likely a customer is to repay borrowed funds.\n",
        "\n",
        "A wrong assessment of credit scores could either increase loan default risks or prevent eligible customers from accessing the right products. Hence, building a robust and accurate system for credit score classification becomes vital for Paisabazaar.\n",
        "\n",
        "**WHAT ARE THE CHALLENGES FACED BY PAISABAZAAR?**\n",
        "\n",
        "\n",
        "\n",
        "\n",
        "*   How to check the accurate creditworthiness\n",
        "*   How to advise banking products to customers on the basis of what variables\n",
        "*   How to mitigate the risk of loan defaults\n",
        "*   How to strengthen lending decisions for banks and NBFCs\n",
        "*   How to deliver personalized financial advice and better product   recommendations\n",
        "*   How to calculate a perfect credit score\n",
        "*   What all attributes to be taken into consideration for deciding creditworthiness\n",
        "\n",
        "**NOW THE QUESTION IS HOW TO OVERCOME THESE CHALLENGES?**\n",
        "\n",
        "\n",
        "*   Accumulating data of the client for analysis\n",
        "*   Analysing all types of attributes related to financial habits of client\n",
        "*   Comparing variables with each other and gaining insights through it\n",
        "*   Ensuring data driven steps to conclude the task\n",
        "*   Applying statistical/behavioral methods to calculate and manage risk profile\n",
        "*   Ranging the outcomes into categories like low to high risk\n",
        "*   Visualizing the outcomes together and converting them to a predictive model\n",
        "*   Lastly using this predictive models to cater their clients in an efficient manner\n",
        "\n",
        "\n",
        "\n",
        "\n",
        "\n",
        "\n",
        "\n",
        "\n"
      ],
      "metadata": {
        "id": "2Ft1C-EUqwyA"
      }
    },
    {
      "cell_type": "markdown",
      "source": [
        "# **GitHub Link -**"
      ],
      "metadata": {
        "id": "qMaKvRQtZ10g"
      }
    },
    {
      "cell_type": "markdown",
      "source": [],
      "metadata": {
        "id": "CwXTUCvgZ9p7"
      }
    },
    {
      "cell_type": "markdown",
      "source": [
        "# **Problem Statement** **-**\n",
        "\n",
        "\"Can we accurately predict an individual’s credit score using their income, spending, and repayment behavior — to help Paisabazaar reduce loan risks and deliver smarter, personalized financial solutions?”"
      ],
      "metadata": {
        "id": "x1nUt0vOaGqf"
      }
    },
    {
      "cell_type": "markdown",
      "source": [
        "## #### **Define Your Business Objective?**\n",
        "\n",
        "The primary business objective of this project is to develop a reliable credit score classification system that enables Paisabazaar to:\n",
        "\n",
        "\n",
        "\n",
        "1.   **Analyze customer financial and behavioral data** (income, loans, repayment history, outstanding debt, credit utilization, etc.).\n",
        "\n",
        "\n",
        "2.   **Identify key factors that influence credit scores** through exploratory data analysis and visualizations.\n",
        "\n",
        "\n",
        "1.   **Build a predictive classification model** that accurately categorizes customers into credit score ranges (e.g., Good, Standard, Poor).\n",
        "\n",
        "1.   **Minimize loan default risks** by enabling Paisabazaar to assess customer creditworthiness more precisely.\n",
        "2.   **Support better lending decisions** for banks and financial institutions by providing reliable credit insights.\n",
        "\n",
        "\n",
        "2.   **Enhance customer experience** by offering personalized financial advice and product recommendations based on predicted credit scores."
      ],
      "metadata": {
        "id": "bJ2qaRyPjEW8"
      }
    },
    {
      "cell_type": "markdown",
      "source": [
        "# **General Guidelines : -**"
      ],
      "metadata": {
        "id": "Ez29a-uWk73J"
      }
    },
    {
      "cell_type": "markdown",
      "source": [
        "1.   Well-structured, formatted, and commented code is required.\n",
        "2.   Exception Handling, Production Grade Code & Deployment Ready Code will be a plus. Those students will be awarded some additional credits.\n",
        "     \n",
        "     The additional credits will have advantages over other students during Star Student selection.\n",
        "       \n",
        "             [ Note: - Deployment Ready Code is defined as, the whole .ipynb notebook should be executable in one go\n",
        "                       without a single error logged. ]\n",
        "\n",
        "3.   Each and every logic should have proper comments.\n",
        "4. You may add as many number of charts you want. Make Sure for each and every chart the following format should be answered.\n",
        "        \n",
        "\n",
        "```\n",
        "# Chart visualization code\n",
        "```\n",
        "            \n",
        "\n",
        "*   Why did you pick the specific chart?\n",
        "*   What is/are the insight(s) found from the chart?\n",
        "* Will the gained insights help creating a positive business impact?\n",
        "Are there any insights that lead to negative growth? Justify with specific reason.\n",
        "\n",
        "5. You have to create at least 20 logical & meaningful charts having important insights.\n",
        "\n",
        "\n",
        "[ Hints : - Do the Vizualization in  a structured way while following \"UBM\" Rule.\n",
        "\n",
        "U - Univariate Analysis,\n",
        "\n",
        "B - Bivariate Analysis (Numerical - Categorical, Numerical - Numerical, Categorical - Categorical)\n",
        "\n",
        "M - Multivariate Analysis\n",
        " ]"
      ],
      "metadata": {
        "id": "5Dp7_dNzlB4T"
      }
    },
    {
      "cell_type": "markdown",
      "source": [
        "# ***Let's Begin !***"
      ],
      "metadata": {
        "id": "3qjEyjUD8EfF"
      }
    },
    {
      "cell_type": "markdown",
      "source": [
        "## ***1. Know Your Data***"
      ],
      "metadata": {
        "id": "KzP_ADwM8MvG"
      }
    },
    {
      "cell_type": "markdown",
      "source": [
        "### Import Libraries"
      ],
      "metadata": {
        "id": "j6LCUPci8TS7"
      }
    },
    {
      "cell_type": "code",
      "source": [
        "# Import Libraries\n",
        "import numpy as np\n",
        "import pandas as pd\n",
        "import seaborn as sns\n",
        "import matplotlib.pyplot as plt\n",
        "%matplotlib inline\n",
        "import warnings\n",
        "warnings.filterwarnings('ignore')\n",
        "import plotly.express as px"
      ],
      "metadata": {
        "id": "4fAQUZVa8Ykp"
      },
      "execution_count": null,
      "outputs": []
    },
    {
      "cell_type": "markdown",
      "source": [
        "### Dataset Loading"
      ],
      "metadata": {
        "id": "Kmhaagi38lnO"
      }
    },
    {
      "cell_type": "code",
      "source": [
        "#METHOD 1-\n",
        "#Loading dataset from local PC\n",
        "import pandas as pd\n",
        "from google.colab import files\n",
        "\n",
        "# Upload file\n",
        "uploaded = files.upload()\n",
        "\n",
        "# Load into DataFrame (replace with your filename)\n",
        "df = pd.read_csv(\"dataset_paisabazaar.csv\")\n",
        "\n",
        "# Check the first rows\n",
        "df.head()\n"
      ],
      "metadata": {
        "id": "xxhshdtMtWmF"
      },
      "execution_count": null,
      "outputs": []
    },
    {
      "cell_type": "code",
      "source": [
        "#METHOD 2-\n",
        "#LOADING DATASET FROM GOOGLE DRIVE\n",
        "from google.colab import drive\n",
        "drive.mount('/content/drive')\n"
      ],
      "metadata": {
        "id": "aAeNaOxx1R1Y"
      },
      "execution_count": null,
      "outputs": []
    },
    {
      "cell_type": "code",
      "source": [
        "#explore your Google Drive directory to find where your dataset is stored.\n",
        "import os\n",
        "os.listdir('/content/drive/MyDrive')         # top-level view\n",
        "!ls -lh \"/content/drive/MyDrive/datasets\"    # shell listing (use quotes if spaces)\n"
      ],
      "metadata": {
        "id": "RL3pH05k2lln"
      },
      "execution_count": null,
      "outputs": []
    },
    {
      "cell_type": "code",
      "source": [
        "#Load Dataset into Pandas\n",
        "\n",
        "path = '/content/drive/MyDrive/datasets/dataset_paisabazaar.csv'\n",
        "print(os.path.exists(path))   # True if path is correct\n",
        "df = pd.read_csv(path)\n",
        "\n"
      ],
      "metadata": {
        "id": "AFyVjR2A3IIl"
      },
      "execution_count": null,
      "outputs": []
    },
    {
      "cell_type": "markdown",
      "source": [
        "**Dataset First View**"
      ],
      "metadata": {
        "id": "4wEXlHFd_KPa"
      }
    },
    {
      "cell_type": "code",
      "source": [
        "df.head() # RETURNS FIRST 5 ROWS OF DATAFRAME BY DEFAULT"
      ],
      "metadata": {
        "id": "-HIfEjx__Tyt"
      },
      "execution_count": null,
      "outputs": []
    },
    {
      "cell_type": "code",
      "source": [
        "# Display all columns in the output (disable column truncation in DataFrame display)\n",
        "pd.set_option('display.max_columns', None) #None means all columns"
      ],
      "metadata": {
        "id": "ozyCkfHr6E37"
      },
      "execution_count": null,
      "outputs": []
    },
    {
      "cell_type": "code",
      "source": [
        "# FULL COLUMNS ARE VISIBLE\n",
        "df.head()"
      ],
      "metadata": {
        "id": "LrksTZ9s6KQ2"
      },
      "execution_count": null,
      "outputs": []
    },
    {
      "cell_type": "markdown",
      "source": [
        "### Dataset Rows & Columns count"
      ],
      "metadata": {
        "id": "iUwIJQmI_rSZ"
      }
    },
    {
      "cell_type": "code",
      "source": [
        "# EDA\n",
        "df.shape #DEFINING HOW MANY ROWS AND COLUMNS ARE THERE. RETURNS TUPLE (ROWS,COLUMNS)\n",
        "\n"
      ],
      "metadata": {
        "id": "NAG1pi8h7vU_"
      },
      "execution_count": null,
      "outputs": []
    },
    {
      "cell_type": "markdown",
      "source": [
        "### Dataset Information"
      ],
      "metadata": {
        "id": "y0_oNlMR_xF_"
      }
    },
    {
      "cell_type": "code",
      "source": [
        "df.info() # GIVES YOU SUMMARY OF DATAFRAME USED"
      ],
      "metadata": {
        "id": "rE2N0it08GiC"
      },
      "execution_count": null,
      "outputs": []
    },
    {
      "cell_type": "markdown",
      "source": [
        "**Datatype info**"
      ],
      "metadata": {
        "id": "DzUkvg78_5ip"
      }
    },
    {
      "cell_type": "code",
      "source": [
        "# GIVES DATA TYPES\n",
        "df.dtypes"
      ],
      "metadata": {
        "id": "V2SBOR_dBa4s"
      },
      "execution_count": null,
      "outputs": []
    },
    {
      "cell_type": "markdown",
      "source": [
        "**Statistical information from dataset**"
      ],
      "metadata": {
        "id": "P7qnzDmOABc4"
      }
    },
    {
      "cell_type": "code",
      "source": [
        "# summarizes numeric, categorical and datetime columns by calculating count, min,max std etc.it gives quick statistical view of every column\n",
        "df.describe(include= 'all')"
      ],
      "metadata": {
        "id": "XcoAvuI8BmPD"
      },
      "execution_count": null,
      "outputs": []
    },
    {
      "cell_type": "markdown",
      "source": [
        "**Finding Null values present or not**"
      ],
      "metadata": {
        "id": "VS1r-lJgAQOF"
      }
    },
    {
      "cell_type": "code",
      "source": [
        "df.isnull()"
      ],
      "metadata": {
        "id": "mHsqJN1fDO7k"
      },
      "execution_count": null,
      "outputs": []
    },
    {
      "cell_type": "markdown",
      "source": [
        "**Missing values/Null values count**"
      ],
      "metadata": {
        "id": "N9ELtrReAaDk"
      }
    },
    {
      "cell_type": "code",
      "source": [
        "df.isnull().sum() # creates a DataFrame of booleans where each cell is True if the value is missing (NaN, None, NaT) and False otherwise. .sum() sums up true=1 and false= 0"
      ],
      "metadata": {
        "id": "3JzsdT2jDZpR"
      },
      "execution_count": null,
      "outputs": []
    },
    {
      "cell_type": "markdown",
      "source": [
        "**DUPLICATE VALUES**"
      ],
      "metadata": {
        "id": "ykJAAzLgEemI"
      }
    },
    {
      "cell_type": "code",
      "source": [
        "# DF.DUPLICATED() Returns a boolean Series (one value per row).True if the row is a duplicate of a previous row.\n",
        "#False if it’s the first occurrence.\n",
        "\n",
        "df.duplicated().sum()\n",
        "#the above code checks for and displays any duplicate rows in the dataset DataFrame.\n",
        "#The output shows there are no duplicate rows in the dataset."
      ],
      "metadata": {
        "id": "2nl8uGmrEj1a"
      },
      "execution_count": null,
      "outputs": []
    },
    {
      "cell_type": "markdown",
      "source": [
        "# What did you know about your dataset?\n"
      ],
      "metadata": {
        "id": "JUxdGOJdH3ZU"
      }
    },
    {
      "cell_type": "markdown",
      "source": [
        "The given datasetis from Paisabazaar Bank fraud, and we have to analyze and develope a prediction model for credit scores based on customer data which can improve decision-making for recommending better personalized financial products and for mitigating risk so as to contribute to better customer satisfaction.\n",
        "\n",
        "The above dataset has 1,00,000 rows and 28 columns. There are no mising values and no duplicate values in the dataset.\n",
        "\n",
        "The dataset consists of 100,000 customer records with 28 columns detailing various financial and personal attributes. Key features include:\n",
        "\n",
        "* Demographic Information: Age, Occupation, SSN, Name\n",
        "* Financial Attributes: Annual Income, Monthly In-hand Salary, Number of Bank Accounts, Credit Cards, Loans, Interest Rate\n",
        "* Credit Information: Credit Utilization Ratio, Outstanding Debt, Credit History Age, Credit Mix\n",
        "* Behavioral Metrics: Payment Behavior, Delayed Payments, Credit Inquiries, Payment of Minimum Amount\n",
        "* Target Variable: Credit Score (Good, Standard, scores."
      ],
      "metadata": {
        "id": "aU0l0ZR_A7bd"
      }
    },
    {
      "cell_type": "markdown",
      "source": [
        "# **2. Understanding Your Variables**"
      ],
      "metadata": {
        "id": "a-D7Jz5AXv5I"
      }
    },
    {
      "cell_type": "markdown",
      "source": [
        "**Showing columns**"
      ],
      "metadata": {
        "id": "KNP8LquACQhN"
      }
    },
    {
      "cell_type": "code",
      "source": [
        "# IT SHOWS THE NAME OF ALL COLUMNS IN THE DATASET. WITH THIS WE CAN GET THE IDEA OF WHAT ALL INFO WE HAVE FOR ANALYSIS\n",
        "df.columns"
      ],
      "metadata": {
        "id": "i4rPPCgEXw8X"
      },
      "execution_count": null,
      "outputs": []
    },
    {
      "cell_type": "markdown",
      "source": [
        "# Dataset Describe"
      ],
      "metadata": {
        "id": "ux5ulFFfCdUo"
      }
    },
    {
      "cell_type": "code",
      "source": [
        "df.describe()"
      ],
      "metadata": {
        "id": "WzNg_VMHCjwr"
      },
      "execution_count": null,
      "outputs": []
    },
    {
      "cell_type": "markdown",
      "source": [
        "**Variable Description**\n",
        "\n",
        "1) ID: unique identifier for each row\n",
        "\n",
        "2) Customer_ID: Unique ID for each customer\n",
        "\n",
        "3) Month: Time/Month of record\n",
        "\n",
        "4) Name: Full name of customer\n",
        "\n",
        "5) Age: Age of the customer in years\n",
        "\n",
        "6) SSN: Social security number\n",
        "\n",
        "7) Occupation: Profession of customer\n",
        "\n",
        "8) Annual_Income: Total yearly income\n",
        "\n",
        "9) Monthly_Inhand_Salary: Net Salary received per month\n",
        "\n",
        "10) Num_Bank_Accounts: Number of active bank accounts customer holds\n",
        "\n",
        "11) Num_Credit_Card: Total number of credit cards customer holds\n",
        "\n",
        "12) Interest rate: avg Interest rate on running loans\n",
        "\n",
        "13) Num_of_loan: Total number of loans taken by the customer\n",
        "\n",
        "14) Type_of_loan: Types of loans taken by the customer\n",
        "\n",
        "15) Delay_from_due_date: Average number of days the customer delayed their EMI payments.\n",
        "\n",
        "16) Num_of_Delayed_Payment: Count of delayed EMI payments.\n",
        "\n",
        "17) changed_credit_limit: How much the customer's credit limit has changed (in ₹ or %).\n",
        "\n",
        "18) Num_credit_inquiries: Number of credit inquiries made recently.\n",
        "\n",
        "19) Credit_Mix: Categorical rating of the customer's credit profile (e.g., Good, Bad, Standard).\n",
        "\n",
        "20) Outstanding_Debt: Total outstanding loan or credit card balance (in ₹).\n",
        "\n",
        "21) Credit_Utilization_Ratio: Percentage of available credit being used (important risk metric).\n",
        "\n",
        "22) Credit_History_Age: Total duration of credit history in months.\n",
        "\n",
        "23) Payment_of_Min_Amount: Whether the customer is paying just the minimum amount due (Yes/No)-like revolving facility in credit card payment.\n",
        "\n",
        "24) Total_EMI_per_month: Total EMI paid across all loans per month (in ₹).\n",
        "\n",
        "25) Amount_invested_monthly: Monthly amount invested (in SIPs, mutual funds, PPFs, stocks etc) by the customer (in ₹).\n",
        "\n",
        "26) Payment_Behaviour: Categorized behavior pattern (e.g. spending high value amount, low value amount).\n",
        "\n",
        "27) Monthly_Balance: Remaining balance in customer account at present/on particular date (in ₹).\n",
        "\n",
        "28) Credit_Score: Target variable: Score of customer calculated as per his credit behaviour (Good, Standard, Poor).\n"
      ],
      "metadata": {
        "id": "eTcK7C3sY4p8"
      }
    },
    {
      "cell_type": "markdown",
      "source": [
        "**Check Unique Values for each variable.**"
      ],
      "metadata": {
        "id": "W95p2_VXt0xR"
      }
    },
    {
      "cell_type": "code",
      "source": [
        "df.nunique()"
      ],
      "metadata": {
        "id": "rf9r29r4t8r7"
      },
      "execution_count": null,
      "outputs": []
    },
    {
      "cell_type": "markdown",
      "source": [
        "## 3. ***Data Wrangling***\n",
        "\n",
        "(Also called as Data Cleaning or Data Preprocessing) is the process of transforming raw, messy data into a clean and usable format before analysis.\n",
        "It allows us to handle missing data, remove duplicates,correction of datatypes, dealing with outliers, calculating new columns"
      ],
      "metadata": {
        "id": "k2QA3mtRu9pF"
      }
    },
    {
      "cell_type": "markdown",
      "source": [
        "### Data Wrangling Code"
      ],
      "metadata": {
        "id": "wqns0OPrEEHM"
      }
    },
    {
      "cell_type": "code",
      "source": [
        "df.info() #get information about data"
      ],
      "metadata": {
        "id": "aFuofbE1vBiX"
      },
      "execution_count": null,
      "outputs": []
    },
    {
      "cell_type": "code",
      "source": [
        "# data wrangling\n",
        "## Creating a copy of the current dataset and assigning to new_df\n",
        "new_df=df.copy()"
      ],
      "metadata": {
        "id": "8BXVGDdA8WKH"
      },
      "execution_count": null,
      "outputs": []
    },
    {
      "cell_type": "code",
      "source": [
        "#dropping the  unnecessary columns as these are unique and cannot be related to other variables for analysis\n",
        "drop_columns = ['ID', 'Customer_ID', 'Name', 'SSN']\n",
        "new_df.drop(columns = drop_columns)"
      ],
      "metadata": {
        "id": "q8nmlUgxnq43"
      },
      "execution_count": null,
      "outputs": []
    },
    {
      "cell_type": "code",
      "source": [
        "#converting data types\n",
        "new_df['Age'] = new_df['Age'].astype('int64')\n",
        "new_df['Num_Bank_Accounts'] = new_df['Num_Bank_Accounts'].astype('int64')\n",
        "new_df['Num_Credit_Card'] = new_df['Num_Credit_Card'].astype('int64')\n",
        "new_df['Num_of_Loan'] = new_df['Num_of_Loan'].astype('int64')\n",
        "new_df['Num_of_Delayed_Payment'] = new_df['Num_of_Delayed_Payment'].astype('int64')\n",
        "new_df['Credit_History_Age'] = new_df['Credit_History_Age'].astype('int64')\n",
        "new_df['Delay_from_due_date'] = new_df['Delay_from_due_date'].astype('int64')\n",
        "new_df['Num_Credit_Inquiries'] = new_df['Num_Credit_Inquiries'].astype('int64')\n",
        "new_df['Payment_of_Min_Amount'] = new_df['Payment_of_Min_Amount'].astype('category')\n",
        "new_df['Occupation'] = new_df['Occupation'].astype('category')\n",
        "new_df['Credit_Mix'] = new_df['Credit_Mix'].astype('category')\n",
        "new_df['Payment_Behaviour'] = new_df['Payment_Behaviour'].astype('category')\n",
        "new_df['Credit_Score'] = new_df['Credit_Score'].astype('category')"
      ],
      "metadata": {
        "id": "Ox-zEuoen-rZ"
      },
      "execution_count": null,
      "outputs": []
    },
    {
      "cell_type": "code",
      "source": [
        "# Rounding the numbers in float cols to 2.\n",
        "new_df['Annual_Income'] = new_df['Annual_Income'].round(2)\n",
        "new_df['Monthly_Inhand_Salary'] = new_df['Monthly_Inhand_Salary'].round(2)\n",
        "new_df['Interest_Rate'] = new_df['Interest_Rate'].round(2)\n",
        "new_df['Total_EMI_per_month'] = new_df['Total_EMI_per_month'].round(2)\n",
        "new_df['Outstanding_Debt'] = new_df['Outstanding_Debt'].round(2)\n",
        "new_df['Changed_Credit_Limit'] = new_df['Changed_Credit_Limit'].round(2)\n",
        "new_df['Amount_invested_monthly'] = new_df['Amount_invested_monthly'].round(2)\n",
        "new_df['Monthly_Balance'] = new_df['Monthly_Balance'].round(2)\n",
        "new_df['Credit_Utilization_Ratio'] = new_df['Credit_Utilization_Ratio'].round(2)"
      ],
      "metadata": {
        "id": "NpU_0FNcotoi"
      },
      "execution_count": null,
      "outputs": []
    },
    {
      "cell_type": "code",
      "source": [
        "#check whether changes implemented or not\n",
        "new_df.head()"
      ],
      "metadata": {
        "id": "vbmAaNJJpLDN"
      },
      "execution_count": null,
      "outputs": []
    },
    {
      "cell_type": "code",
      "source": [
        "# To check unique info in Column \"Payment_of_Min_Amount\"\n",
        "new_df['Payment_of_Min_Amount'].unique()"
      ],
      "metadata": {
        "id": "Ia2y284aFLRr"
      },
      "execution_count": null,
      "outputs": []
    },
    {
      "cell_type": "markdown",
      "source": [
        "**Replacing \"NM\" to \"No\"**\n",
        "\n",
        "As the value \"NM\" does not support any analysis, its kind of missing value, so we can replace it with value \"NO\". It will help us in creating better visualization\n",
        "\n"
      ],
      "metadata": {
        "id": "Tpups8XvFm2W"
      }
    },
    {
      "cell_type": "code",
      "source": [
        "#Firstly check how many counts are there for each value\n",
        "\n",
        "new_df['Payment_of_Min_Amount'].value_counts()"
      ],
      "metadata": {
        "id": "tIwd42c2pZUv"
      },
      "execution_count": null,
      "outputs": []
    },
    {
      "cell_type": "code",
      "source": [
        "# Secondly Replacing \"NM\" to \"No\" in 'Payment_of_Min_Amount' column\n",
        "\n",
        "\n",
        "new_df['Payment_of_Min_Amount']= new_df['Payment_of_Min_Amount'].replace('NM','No')\n",
        "new_df['Payment_of_Min_Amount'].unique()\n"
      ],
      "metadata": {
        "id": "TIRp8nzfp35D"
      },
      "execution_count": null,
      "outputs": []
    },
    {
      "cell_type": "code",
      "source": [
        "new_df['Payment_of_Min_Amount'].value_counts()"
      ],
      "metadata": {
        "id": "zn6C8_M9qc3y"
      },
      "execution_count": null,
      "outputs": []
    },
    {
      "cell_type": "code",
      "source": [
        "#Checking values in column \"Credit_Mix\"\n",
        "df['Credit_Mix'].value_counts()"
      ],
      "metadata": {
        "id": "IXno0xmCHnEg"
      },
      "execution_count": null,
      "outputs": []
    },
    {
      "cell_type": "code",
      "source": [
        "#Checking the values in column \"Credit_Score\"\n",
        "df['Credit_Score'].value_counts()\n"
      ],
      "metadata": {
        "id": "dYD8TABdHue2"
      },
      "execution_count": null,
      "outputs": []
    },
    {
      "cell_type": "markdown",
      "source": [
        "As we can see in column \"Credit_Mix\", values are [Standard,Good,Bad] while in column \"Credit_Score\" values are [Standard,Good,Poor]. To make it even, we are changing 'Bad' to 'Poor' in column \"Credit_Mix\""
      ],
      "metadata": {
        "id": "JKsdaTM1H_K_"
      }
    },
    {
      "cell_type": "code",
      "source": [
        "#Changing 'Bad' to 'Poor' in column \"Credit_Mix\"\n",
        "new_df['Credit_Mix']= new_df['Credit_Mix'].replace('Bad','Poor')\n",
        "new_df['Credit_Mix'].value_counts()"
      ],
      "metadata": {
        "id": "57M_T4XVIn76"
      },
      "execution_count": null,
      "outputs": []
    },
    {
      "cell_type": "markdown",
      "source": [
        "### What all manipulations have you done and insights you found?\n",
        "\n",
        "1. Rounded the contunious numerical columns to 2 decimals.\n",
        "\n",
        "2. Dropped unnecessary columns like 'ID', 'Customer_ID', 'Name' and 'SSN'.\n",
        "\n",
        "3. Changing dtypes of columns. So that it will give accurate results while analysing.\n",
        "\n",
        "4. When checking the unique values in data we found that Payment_of_Min_Amount has 3 unique values. Changed another input 'NM' to 'No'.Missing or wrong values create jerks in analysis.\n",
        "\n",
        "5. In Credit mix column there are Good, Standard and Bad classification. We will change Bad category to Poor so that we can analyse it if there's any association of credit mix with credit score.Standardization is required for better visualization"
      ],
      "metadata": {
        "id": "Nz8MJ5wWJHcY"
      }
    },
    {
      "cell_type": "markdown",
      "source": [
        "## ***4. Data Vizualization, Storytelling & Experimenting with charts : Understand the relationships between variables***"
      ],
      "metadata": {
        "id": "0H2cn2QLHdSf"
      }
    },
    {
      "cell_type": "markdown",
      "source": [
        "## **CHART 1- DISTRIBUTION OF DIFFERENT OCCUPATIONS**-**BAR CHART(Univariate Analysis)**\n",
        "\n",
        "It looks at one variable at a time to understand its distribution, patterns, and basic characteristics.\n"
      ],
      "metadata": {
        "id": "LuABj5GVzZUk"
      }
    },
    {
      "cell_type": "code",
      "source": [
        "# Chart 1 visualization code\n",
        "# Calculate the count of each occupation\n",
        "occupation_counts = new_df['Occupation'].value_counts().reset_index()\n",
        "occupation_counts.columns = ['Occupation', 'Number of Individuals']\n",
        "\n",
        "\n",
        "category_count = px.bar(occupation_counts, y='Occupation', x='Number of Individuals',\n",
        "    title=\"Distribution of Occupation\")\n",
        "\n",
        "category_count.update_layout( height=600,width=900,title_font=dict(size=20, color='darkblue'),\n",
        "    font=dict(size=14,color='darkblue'),\n",
        "    bargap=0.2)\n",
        "\n",
        "category_count.show()"
      ],
      "metadata": {
        "id": "A_8ImFnrtdmB"
      },
      "execution_count": null,
      "outputs": []
    },
    {
      "cell_type": "markdown",
      "source": [
        " **1. Why did you pick the specific chart?**\n",
        "\n",
        "  Ans:- A bar chart is ideal for visualizing categorical variables like \"Occupation.\" It effectively shows the frequency or count of individuals in each occupation, making it easy to compare participation across different professions.\n",
        "\n",
        "**2. What is/are the insight(s) found from the chart?**\n",
        "  \n",
        "  Ans:- Lawyers have the highest loan/banking product applicants comparatively, with over 7000 individuals.\n",
        "  Engineers and Architects also show strong participation, suggesting that technical professions are actively engaged in financial services.\n",
        "  While Writers and Musicians have comparatively fewer applicants, the difference is not drastic, indicating that all listed occupations have a fair level of financial product adoption.\n",
        "\n",
        "3.**Will** **the** **gained insights help creating** **positive** **business** **impact?**\n",
        "**Are there any insights that lead to negative growth? Justify** **with specific** **reason.**\n",
        "\n",
        "\n",
        "   Ans:- Yes, the insights can create a positive business impact by helping financial institutions tailor their products occupation-wise,marketing or risk assessment strategies based on occupation.\n",
        "\n",
        "   For example:\n",
        "\n",
        "   High applicant volumes from Lawyers, Engineers, and Architects suggest stable professional groups that may be targeted for premium products or pre-approved loans.\n",
        "\n",
        "   Although Writers and Musicians have lower representation, the gap is not significant. This implies a diverse customer base across professions, enabling inclusive financial strategies.\n",
        "\n",
        "   No clear signs of negative growth were observed, as all professions show meaningful levels of engagement."
      ],
      "metadata": {
        "id": "PmuHEdGl26bJ"
      }
    },
    {
      "cell_type": "markdown",
      "source": [
        "## **CHART 2- DISTRIBUTION OF CREDIT SCORE TYPES-PIE CHART(Univariate Analysis)**\n"
      ],
      "metadata": {
        "id": "Ypc1qUtM0ENE"
      }
    },
    {
      "cell_type": "code",
      "source": [
        "\n",
        "\n",
        "# Count how many individuals fall into each Credit_Score category\n",
        "credit_counts = new_df['Credit_Score'].value_counts().reset_index()\n",
        "credit_counts.columns = ['Credit_Score_type', 'Count']\n",
        "\n",
        "# Create a pie chart\n",
        "fig_creditscore_pie = px.pie(\n",
        "    credit_counts,\n",
        "    names='Credit_Score_type',\n",
        "    values='Count',\n",
        "    title=\"Distribution of Credit Scores\",\n",
        "    hole=0.4  # makes it a donut chart, remove if you want full pie\n",
        ")\n",
        "\n",
        "# Customize layout\n",
        "fig_creditscore_pie.update_traces(textinfo='percent+label')  # show % and labels\n",
        "fig_creditscore_pie.update_layout(\n",
        "    title_font=dict(size=20, color='darkblue'),\n",
        "    font=dict(size=14, color='darkblue'),\n",
        "    height=600,\n",
        "    width=800\n",
        ")\n",
        "\n",
        "# Show chart\n",
        "fig_creditscore_pie.show()\n"
      ],
      "metadata": {
        "id": "BbXvvCOh0kZs"
      },
      "execution_count": null,
      "outputs": []
    },
    {
      "cell_type": "markdown",
      "source": [
        "**1. Why did you pick the specific chart?**\n",
        "\n",
        "   Ans:- Pie charts are effective for visualizing proportions in categorical data. Since the goal was to analyze the distribution of credit scores across the dataset, the pie chart was ideal to illustrate how much each credit score category (Standard, Poor, Good) contributes to the whole.\n",
        "\n",
        "**2. What is/are the insight(s) found from the chart?**\n",
        "\n",
        "  Ans:-\n",
        "\n",
        "  Standard = 53.17% :- Indicates that the majority fall within an average creditworthiness range.\n",
        "\n",
        "  Poor = 29% :- This suggests a significant risk of loan getting default.\n",
        "\n",
        "  Good = 17.83% :- This means creditworthy individuals are even less than 20% which is not a good sign.\n",
        "\n",
        "  The dataset is skewed towards the \"Standard\" credit score class.This imbalance can lead to biased predictions, where the model may favor the majority class and underperform in identifying \"Poor\" and \"Good\" credit scores.\n",
        "\n",
        "**3.Will the gained insights help creating a positive business impact?**\n",
        "**Are there any insights that lead to negative growth? Justify with specific** **reason.**\n",
        "\n",
        "  Ans:- Yes, these insights can inform better targeting strategies — offering customized financial products to different segments. However, the imbalance in the dataset and high proportion of \"Poor\" scores raise red flags. After analysing this, institute can make changes in their lending policy or changes in selection policy for lending as we can see only 17.83% individuals show sign of creditworthiness.If not addressed, it can negatively affect credit risk modeling, leading to poor decision-making and financial losses."
      ],
      "metadata": {
        "id": "GM3ywZxm5Ws8"
      }
    },
    {
      "cell_type": "markdown",
      "source": [
        "## **CHART 3- DISTRIBUTION OF CREDIT MIX TYPES-PIE CHART(Univariate Analysis)**"
      ],
      "metadata": {
        "id": "xmZJR4dBN2xb"
      }
    },
    {
      "cell_type": "code",
      "source": [
        "# Count how many individuals fall into each Credit_Mix category\n",
        "credit_mix_counts = new_df['Credit_Mix'].value_counts().reset_index()\n",
        "credit_mix_counts.columns = ['Credit_Mix_type', 'Count']\n",
        "\n",
        "# Create a bar chart\n",
        "fig_creditmix_bar = px.bar(\n",
        "    credit_mix_counts,\n",
        "    x='Credit_Mix_type',\n",
        "    y='Count',\n",
        "    text='Count',\n",
        "    title=\"Distribution of Individuals by Credit Mix Type\",\n",
        "    color='Credit_Mix_type',\n",
        "    height=600,\n",
        "    width=800\n",
        ")\n",
        "\n",
        "# Customize layout\n",
        "fig_creditmix_bar.update_traces(textposition='outside')  # show counts above bars\n",
        "fig_creditmix_bar.update_layout(\n",
        "    title_font=dict(size=20, color='darkblue'),\n",
        "    font=dict(size=14, color='darkblue'),\n",
        "    xaxis_title=\"Credit Mix Type\",\n",
        "    yaxis_title=\"Number of Individuals\",\n",
        "    showlegend=False\n",
        ")\n",
        "\n",
        "# Show chart\n",
        "fig_creditmix_bar.show()\n"
      ],
      "metadata": {
        "id": "uRQ5ROnMN8dN"
      },
      "execution_count": null,
      "outputs": []
    },
    {
      "cell_type": "markdown",
      "source": [
        "**1. Why did you pick the specific chart?**\n",
        "\n",
        "   I chose bar chart as this is more effective than a pie chart when comparing categorical data across distinct groups. Since the goal was to examine how individuals are distributed across different Credit Mix types (e.g., Standard, Good, Poor), the bar chart provides a clearer, side-by-side comparison of the counts, making it easy to identify which category dominates and by how much.\n",
        "\n",
        "**2. What is/are the insight(s) found from the chart?**\n",
        "\n",
        "Standard Credit Mix dominates the dataset, meaning most individuals fall into this mid-level credit mix range.\n",
        "\n",
        "Good Credit Mix is relatively smaller, showing fewer individuals maintain a consistently good balance of credit accounts.\n",
        "\n",
        "Poor Credit Mix exists in non-negligible proportion, indicating a risky group with poor handling of credit.\n",
        "\n",
        "The imbalance across categories (with \"Standard\" being far larger) suggests potential bias in predictive modeling, similar to the credit score imbalance.\n",
        "\n",
        "**3.Will the gained insights help creating a positive business impact?**\n",
        "**Are there any insights that lead to negative growth? Justify with specific** **reason.**\n",
        "\n",
        "Positive Impact:\n",
        "\n",
        "Paisabazaar can design risk-adjusted loan products by identifying individuals with \"Poor\" Credit Mix and applying stricter eligibility or higher interest rates.\n",
        "Individuals with \"Good\" Credit Mix can be targeted for premium loan offers or higher credit limits, boosting customer satisfaction and business growth.\n",
        "\n",
        "Potential Negative Growth:\n",
        "\n",
        "The dataset’s heavy tilt toward the \"Standard\" Credit Mix reduces granularity in identifying truly \"Good\" or \"Bad\" customers.\n",
        "If not handled (e.g., with balancing techniques in modeling), predictive models may underperform in capturing risky (Bad) or highly reliable (Good) credit customers, leading to higher default risks or missed business opportunities."
      ],
      "metadata": {
        "id": "HfG1u4uZQvO_"
      }
    },
    {
      "cell_type": "markdown",
      "source": [
        "## **CHART 4-DISTRIBUTION OF ANNUAL INCOME-HISTOGRAM(Univariate Analysis)**"
      ],
      "metadata": {
        "id": "ffggQRMx8YR8"
      }
    },
    {
      "cell_type": "code",
      "source": [
        "# Histogram to show distribution of Annual Income\n",
        "fig_income = px.histogram(\n",
        "    new_df,\n",
        "    x=\"Annual_Income\",\n",
        "    nbins=50,\n",
        "    title=\"Distribution of Annual Income\",\n",
        "    color_discrete_sequence=['skyblue']\n",
        ")\n",
        "\n",
        "# Customize layout\n",
        "fig_income.update_layout(\n",
        "    height=600, width=900,\n",
        "    title_font=dict(size=20, color='darkblue'),\n",
        "    font=dict(size=14, color='darkblue')\n",
        ")\n",
        "\n",
        "fig_income.show()\n"
      ],
      "metadata": {
        "id": "SB9lQFDc9q80"
      },
      "execution_count": null,
      "outputs": []
    },
    {
      "cell_type": "markdown",
      "source": [
        "**1. Why did you pick the specific chart?**\n",
        "\n",
        "  I chose a histogram because income is a numerical variable, and histograms are the most effective way to visualize the spread of continuous values.\n",
        "  px.histogram() → shows the distribution (spread) of Annual Income across all individuals.\n",
        "  nbins=50 → breaks income range into 50 bins for better granularity.\n",
        "  This helps us see income ranges where most customers lie.\n",
        "\n",
        "**2. What is/are the insight(s) found from the chart?**\n",
        "Most customers in the dataset fall in the lower-to-mid income range , with fewer people in very high-income categories. This suggests the dataset is slightly skewed towards middle-class earners.\n",
        "25% of indiviuals earn below 20k.\n",
        "Most people fall in the lower-to-mid income range (₹20K–₹70K).\n",
        "A small percentage earn very high incomes (>₹1.1L), which pulls the mean (₹50K) higher than the median (₹37K).\n",
        "\n",
        "**3.Will the gained insights help creating a positive business impact?**\n",
        "**Are there any insights that lead to negative growth? Justify with specific** **reason.**\n",
        "\n",
        "Positive: Knowing that most customers are in a moderate income bracket, businesses can design affordable financial products (e.g., lower EMI loans, mid-tier credit cards).\n",
        "Negative: The lack of high-income individuals means premium products may not perform well, leading to wasted marketing spend."
      ],
      "metadata": {
        "id": "KVsRcn7N-g8M"
      }
    },
    {
      "cell_type": "markdown",
      "source": [
        "### **CHART 5- DISTRIBUTION OF LOAN APPLICANTS AGEWISE-HISTOGRAM(Univariate Analysis)**"
      ],
      "metadata": {
        "id": "vnQ3yWo2UzeE"
      }
    },
    {
      "cell_type": "code",
      "source": [
        "# Histogram: distribution of loan applicants by Age\n",
        "fig_age_loan = px.histogram(\n",
        "    new_df,\n",
        "    x=\"Age\",\n",
        "    nbins=20,  # divide age into 20 bins\n",
        "    title=\"Age-wise Distribution of Loan Applicants\",\n",
        "    color_discrete_sequence=[\"seagreen\"]\n",
        ")\n",
        "\n",
        "# Customize layout\n",
        "fig_age_loan.update_layout(\n",
        "    height=600, width=900,\n",
        "    title_font=dict(size=20, color=\"darkblue\"),\n",
        "    font=dict(size=14, color=\"darkblue\"),\n",
        "    bargap=0.2\n",
        ")\n",
        "\n",
        "fig_age_loan.show()"
      ],
      "metadata": {
        "id": "84tppI20U4co"
      },
      "execution_count": null,
      "outputs": []
    },
    {
      "cell_type": "markdown",
      "source": [
        "**1. Why did you pick the specific chart?**\n",
        "\n",
        "I chose a histogram because Age is a continuous numerical variable. A histogram makes it easy to see which age groups dominate loan applications.Taken bin size=20 to split age into 20 bins for a clear view.\n",
        "\n",
        "**2. What is/are the insight(s) found from the chart?**\n",
        "The dataset shows a very small number of applicants below age 20.\n",
        "The bulk of applicants start appearing from age 20 onwards, with the highest concentration between 30 and 50.\n",
        "After around 55 years, the number of applicants declines again.\n",
        "Very few applicants are below age 20, likely because younger individuals have not yet reached financial independence. Loan demand rises sharply from the mid-20s, peaks between 30-50 (prime earning years), and then decreases after 55.”\n",
        "\n",
        "**3.Will the gained insights help creating a positive business impact?**\n",
        "**Are there any insights that lead to negative growth? Justify with specific** **reason.**\n",
        "\n",
        "Positive: Businesses should target 30–50 year olds for loan products (personal loans, home loans, etc.) as they are the most active borrowers.\n",
        "Negative: Younger customers (under 20) and older customers (above 55) show weak loan demand, meaning marketing spend on these groups may lead to negative ROI. Instead, they can be engaged with different products (e.g., credit cards for youth, retirement planning for seniors)."
      ],
      "metadata": {
        "id": "tSD_6jUvVESi"
      }
    },
    {
      "cell_type": "markdown",
      "source": [
        "### **CHART 6- RELATION BETWEEN OCCUPATION Vs CREDITSCORE-HISTOGRM(Bivariate Analysis)**\n",
        "\n",
        "Bivariate analysis is the statistical study of the relationship between two variables.\n",
        "\"Bi\" → two\n",
        "\"Variate\" → variables\n",
        "It helps you understand how one variable changes with respect to another."
      ],
      "metadata": {
        "id": "Cx2XWC9lAmyY"
      }
    },
    {
      "cell_type": "code",
      "source": [
        "# Grouped Bar chart to compare credit scores across occupations\n",
        "\n",
        "fig_occ_credit = px.histogram(\n",
        "    new_df,\n",
        "    x=\"Occupation\",\n",
        "    color=\"Credit_Score\",\n",
        "    barmode=\"group\",\n",
        "    title=\"Credit Score Distribution Across Occupations\",\n",
        "    color_discrete_map={\n",
        "        \"Poor\": \"red\",\n",
        "        \"Good\": \"lightgreen\",\n",
        "        \"Standard\": \"skyblue\"\n",
        "    }\n",
        ")\n",
        "\n",
        "# Layout customization\n",
        "fig_occ_credit.update_layout(\n",
        "    height=600,\n",
        "    width=1000,\n",
        "    title_font=dict(size=20, color='darkblue'),\n",
        "    font=dict(size=14, color='darkblue'),\n",
        "    xaxis_tickangle=-45\n",
        ")\n",
        "\n",
        "fig_occ_credit.show()\n",
        "\n"
      ],
      "metadata": {
        "id": "o-XzG68PBtzD"
      },
      "execution_count": null,
      "outputs": []
    },
    {
      "cell_type": "markdown",
      "source": [
        "**1. Why did you pick the specific chart?**\n",
        "\n",
        " I chose a grouped bar chart because it allows me to compare two categorical variables: Occupation and Credit Score. This type of chart makes it easy to see how different job types are distributed across Good, Standard, and Poor credit categories.\n",
        "\n",
        "**2. What is/are the insight(s) found from the chart?**\n",
        "Across most occupations, the majority of individuals fall in the \"Standard\" credit score group. For example:\n",
        "\n",
        "Accountants,Engineers,Scientists: More than 50% falls in Standard score,very less percentage falls under Good.\n",
        "Some occupations like Scientists and Engineers have a higher share of Good credit scores, while certain other jobs have relatively more Poor scores. This shows that occupation is a strong factor in credit health.On average, only ~18% of individuals in these professions have a \"Good\" score, while ~30% are in the \"Poor\" segment.\n",
        "\n",
        "This shows that occupation does influence credit health, but the difference between professions is not extreme — all professions display a similar pattern: half Standard, one-third Poor, less than one-fifth Good.\n",
        "\n",
        "**3.Will the gained insights help creating a positive business impact?**\n",
        "**Are there any insights that lead to negative growth? Justify with specific** **reason.**\n",
        "\n",
        "Positive: Businesses can prioritize safer professions when giving credit (e.g., scientists, engineers), reducing default risk.\n",
        "\n",
        "Negative: Being biased against some occupations may limit business reach. The company should balance risk with inclusivity."
      ],
      "metadata": {
        "id": "ITdJc7VWFNgN"
      }
    },
    {
      "cell_type": "markdown",
      "source": [
        "**CHART 7- INCOME VS PAYMENT BEHAVIOUR PATTERN-BOXPLOT(Bivariate Analysis)**"
      ],
      "metadata": {
        "id": "7iw-bgC2OwjY"
      }
    },
    {
      "cell_type": "code",
      "source": [
        "# Boxplot to show income distribution across payment behaviors\n",
        "fig_payment_income = px.box(\n",
        "    new_df,\n",
        "    x=\"Payment_Behaviour\",\n",
        "    y=\"Annual_Income\",\n",
        "    color=\"Payment_Behaviour\",\n",
        "    title=\"Relationship between Payment Behaviour and Annual Income\"\n",
        ")\n",
        "\n",
        "# Customize layout\n",
        "fig_payment_income.update_layout(\n",
        "    height=600, width=950,\n",
        "    title_font=dict(size=20, color=\"darkblue\"),\n",
        "    font=dict(size=14, color=\"darkblue\"),\n",
        "    xaxis_title=\"Payment Behaviour\",\n",
        "    yaxis_title=\"Annual Income (₹)\"\n",
        ")\n",
        "\n",
        "fig_payment_income.show()\n"
      ],
      "metadata": {
        "id": "AFqAAHQmOxQe"
      },
      "execution_count": null,
      "outputs": []
    },
    {
      "cell_type": "markdown",
      "source": [
        "**1. Why did you pick the specific chart?**\n",
        "\n",
        "I chose a boxplot because it clearly shows how income is distributed across different payment behaviors. This is more effective than bar charts since income is a continuous variable with wide variation.\n",
        "\n",
        "**2. What is/are the insight(s) found from the chart?**\n",
        "\n",
        "*High_spent_Large_value_payments-*\n",
        "Median income (middle line inside the box): is quite high (~₹65K+).\n",
        "Box (IQR range): Most individuals in this group earn between ~₹40K and ₹100K.\n",
        "Whiskers: Some go as high as ~₹170K (very high income earners).\n",
        "\n",
        "Interpretation: These individuals are high earners who also spend big, making them both high-potential customers and possibly risky if spending exceeds repayment.\n",
        "\n",
        "*Low_spent_Small_value_payments-*\n",
        "Median income: ~₹25K (much lower than others).\n",
        "Box: Majority earn between ₹15K and ₹40K.\n",
        "Whiskers: A few outliers exist with high income (>₹120K), but very rare.\n",
        "\n",
        "Interpretation: These are low earners with conservative spending, meaning they may be safer for small credit products but not ideal for premium ones.\n",
        "\n",
        "*Comparing Groups-*\n",
        "\n",
        "High spenders (large/medium payments): tend to have higher median incomes and wider variation.\n",
        "Low spenders (small payments): cluster around lower income levels, with fewer high earners.\n",
        "This shows a clear relationship between spending/payment behaviour and income.\n",
        "\n",
        "\n",
        "From the box plot, we see that income levels are closely tied to spending behavior. Customers making \"high-spent large-value payments\" usually earn much more (median ~₹65K+), whereas those with \"low-spent small-value payments\" cluster around lower income levels (median ~₹25K). However, each group has outliers, meaning income alone does not define payment behavior completely.\n",
        "\n",
        "This insight suggests businesses can use both income and payment patterns together to design credit offerings:\n",
        "\n",
        "Offer premium, high-limit products to high-spent, high-income groups.\n",
        "\n",
        "Offer basic, low-limit credit to low-income, low-spent groups, reducing default risk.”\n",
        "\n",
        "**3.Will the gained insights help creating a positive business impact?**\n",
        "**Are there any insights that lead to negative growth? Justify with specific** **reason.**\n",
        "\n",
        "This insight suggests businesses can use both income and payment patterns together to design credit offerings:\n",
        "Offer premium, high-limit products to high-spent, high-income groups.\n",
        "Offer basic, low-limit credit to low-income, low-spent groups, reducing default risk.”\n",
        "\n",
        "Positive: Businesses can identify which income segments have responsible payment habits, helping design safer loan/credit card strategies.\n",
        "Negative: If high-income individuals also show poor payment behavior, targeting them just based on income may increase default risk. This highlights the need for behavioral scoring in addition to income checks."
      ],
      "metadata": {
        "id": "byFNKHZHQt9i"
      }
    },
    {
      "cell_type": "markdown",
      "source": [
        "**CHART 8- NUMBER OF DELAYED PAYMENTS Vs CREDIT SCORE-BOXPLOT(Bivariate Analysis)**"
      ],
      "metadata": {
        "id": "oBu1636kVfq6"
      }
    },
    {
      "cell_type": "code",
      "source": [
        "# Boxplot: Delayed Payments vs Credit Score\n",
        "fig_delay_credit = px.box(\n",
        "    new_df,\n",
        "    x=\"Credit_Score\",\n",
        "    y=\"Num_of_Delayed_Payment\",\n",
        "    color=\"Credit_Score\",\n",
        "    title=\"Number of Delayed Payments vs Credit Score\",\n",
        "    color_discrete_map={\"Poor\": \"red\", \"Standard\": \"blue\", \"Good\": \"green\"}\n",
        ")\n",
        "\n",
        "# Layout customization\n",
        "fig_delay_credit.update_layout(\n",
        "    height=600, width=900,\n",
        "    title_font=dict(size=20, color=\"darkblue\"),\n",
        "    font=dict(size=14, color=\"darkblue\"),\n",
        "    xaxis_title=\"Credit Score Category\",\n",
        "    yaxis_title=\"Number of Delayed Payments\"\n",
        ")\n",
        "\n",
        "fig_delay_credit.show()\n"
      ],
      "metadata": {
        "id": "qfXdw_ONV8mp"
      },
      "execution_count": null,
      "outputs": []
    },
    {
      "cell_type": "markdown",
      "source": [
        "**1. Why did you pick the specific chart?**\n",
        "\n",
        "I chose a boxplot because it compares a numeric variable (number of delayed payments) with a categorical variable (credit score). Since repayment behavior is one of the strongest indicators of credit health, this visualization clearly shows the distribution of late payments across different credit score categories.\n",
        "\n",
        "**2. What is/are the insight(s) found from the chart?**\n",
        "\n",
        "Individuals with Poor credit scores have the highest median number of delayed payments, often with a very wide spread (chronic late payers).\n",
        "The Good credit score group shows very few delayed payments — most fall near zero.\n",
        "Standard scorers are in between, but still lean closer to Poor than Good.\n",
        "This confirms that repayment punctuality is directly tied to credit score health.\n",
        "\n",
        "**3.Will the gained insights help creating a positive business impact?**\n",
        "**Are there any insights that lead to negative growth? Justify with specific** **reason.**\n",
        "\n",
        "Positive:\n",
        "\n",
        "Direct business impact: Paisabazaar can use delayed payments as a strong feature for predictive modeling.\n",
        "Individuals with repeated late payments can be flagged early and either denied loans or charged higher risk premiums.\n",
        "\n",
        "Negative:\n",
        "\n",
        "If the model is too strict, occasional late payers (but otherwise good customers) may be penalized unfairly. This could reduce customer satisfaction.\n",
        "Hence, the insight must be used carefully alongside other features (like income, debt, and loan count)."
      ],
      "metadata": {
        "id": "D1m5dF1ZWIkS"
      }
    },
    {
      "cell_type": "markdown",
      "source": [
        "**CHART 9- OUTSTANDING DEBT Vs CREDIT SCORE-BOXPLOT(Bivariate Analysis)**"
      ],
      "metadata": {
        "id": "caB08LdbUiLv"
      }
    },
    {
      "cell_type": "code",
      "source": [
        "# Boxplot of Outstanding Debt by Credit Score\n",
        "fig_debt_credit = px.box(\n",
        "    new_df,\n",
        "    x=\"Credit_Score\",\n",
        "    y=\"Outstanding_Debt\",\n",
        "    color=\"Credit_Score\",\n",
        "    title=\"Outstanding Debt vs Credit Score\",\n",
        "    color_discrete_map={\"Poor\": \"red\", \"Standard\": \"blue\", \"Good\": \"green\"}\n",
        ")\n",
        "\n",
        "# Customize layout\n",
        "fig_debt_credit.update_layout(\n",
        "    height=600, width=900,\n",
        "    title_font=dict(size=20, color=\"darkblue\"),\n",
        "    font=dict(size=14, color=\"darkblue\"),\n",
        "    xaxis_title=\"Credit Score Category\",\n",
        "    yaxis_title=\"Outstanding Debt (₹)\"\n",
        ")\n",
        "\n",
        "fig_debt_credit.show()\n"
      ],
      "metadata": {
        "id": "w6ry32CvUitR"
      },
      "execution_count": null,
      "outputs": []
    },
    {
      "cell_type": "markdown",
      "source": [
        "**1. Why did you pick the specific chart?**\n",
        "\n",
        "I chose a boxplot because we are comparing a numerical variable (Outstanding Debt) against a categorical variable (Credit Score). Boxplots help clearly visualize median debt levels and variability across groups.\n",
        "\n",
        "**2. What is/are the insight(s) found from the chart?**\n",
        "Median outstanding debt increases as credit score decreases\n",
        "Individuals with a Poor Credit Score generally have higher outstanding debt and wider variation, meaning many owe significant amounts.\n",
        "Those with a Good Credit Score tend to have lower median debt.There are more outliers in the Good credit score group, suggesting that while most Good scorers have low to moderate debt, a small segment has unusually high debts.\n",
        "The Standard Credit Score group sits in between, as expected.\n",
        "\n",
        "**3.Will the gained insights help creating a positive business impact?**\n",
        "**Are there any insights that lead to negative growth? Justify with specific** **reason.**\n",
        "\n",
        "Positive: This confirms that high outstanding debt is strongly linked to poor credit scores. Businesses can use this insight to flag high-debt customers as risky.\n",
        "Negative: If businesses reject all high-debt customers, they may lose potential clients who can still repay (e.g., high-income individuals temporarily holding debt). Hence, debt must be considered alongside income and payment history for fair lending.Also there are a good number of outliers in Good score as well, it should be resolved and analysed within time limits otherwise this can lead to wrong credit decisions and more defaults"
      ],
      "metadata": {
        "id": "lR4sQ8t6XTX9"
      }
    },
    {
      "cell_type": "markdown",
      "source": [
        "**CHART 10 & 11- CORELATION BETWEEN NO_OF_LOANS Vs CREDIT SCORE AND CUR Vs CREDIT SCORE -BOXPLOT(Bivariate Analysis)**"
      ],
      "metadata": {
        "id": "QXRn8yAodqif"
      }
    },
    {
      "cell_type": "code",
      "source": [
        "# Set figure size for side-by-side plots\n",
        "fig, axes = plt.subplots(1, 2, figsize=(16, 6))\n",
        "\n",
        "# --- Chart 1: Credit Utilization Ratio vs Credit Score ---\n",
        "sns.boxplot(\n",
        "    data=new_df,\n",
        "    x=\"Credit_Score\",\n",
        "    y=\"Credit_Utilization_Ratio\",\n",
        "    palette={\"Poor\": \"red\", \"Standard\": \"blue\", \"Good\": \"green\"},\n",
        "    ax=axes[0]\n",
        ")\n",
        "axes[0].set_title(\"Credit Utilization Ratio vs Credit Score\", fontsize=14, color=\"darkblue\")\n",
        "axes[0].set_xlabel(\"Credit Score Category\")\n",
        "axes[0].set_ylabel(\"Credit Utilization Ratio (%)\")\n",
        "\n",
        "# --- Chart 2: Total Number of Loans vs Credit Score ---\n",
        "sns.boxplot(\n",
        "    data=new_df,\n",
        "    x=\"Credit_Score\",\n",
        "    y=\"Num_of_Loan\",\n",
        "    palette={\"Poor\": \"red\", \"Standard\": \"blue\", \"Good\": \"green\"},\n",
        "    ax=axes[1]\n",
        ")\n",
        "axes[1].set_title(\"Number of Loans vs Credit Score\", fontsize=14, color=\"darkblue\")\n",
        "axes[1].set_xlabel(\"Credit Score Category\")\n",
        "axes[1].set_ylabel(\"Number of Loans\")\n",
        "\n",
        "plt.tight_layout()\n",
        "plt.show()\n"
      ],
      "metadata": {
        "id": "6K1B0-CjdrDD"
      },
      "execution_count": null,
      "outputs": []
    },
    {
      "cell_type": "markdown",
      "source": [
        "**1.Why did you pick the specific chart?**\n",
        "\n",
        "I chose boxplots because we're comparing numeric variables (CUR, Loan Count) against a categorical variable (Credit Score). This makes it easy to compare distributions across categories.\n",
        "\n",
        "**2.What is/are the insight(s) found from the chart?**\n",
        "  \n",
        "  Number of loans (Num_of_Loan) is a strong discriminator of poor credit: people with >4 loans are much more likely to have a Poor credit score.\n",
        "\n",
        "Credit Utilization Ratio (CUR) is not a strong discriminator in this dataset: CUR medians and means are almost the same across Good / Standard / Poor, and the practical effect size is negligible even though a very large sample makes small differences statistically significant.\n",
        "\n",
        "**3.Will the gained insights help creating a positive business impact?**\n",
        "**Are there any insights that lead to negative growth? Justify with specific** **reason.**\n",
        "\n",
        "Yes, the insights from these charts can drive positive business impact in several ways:\n",
        "\n",
        "Number of loan appears to have a greater impact on credit score than the Credit Utilization Ratio. This insight is fundamentally wrong but we have got this result possibly due to data imbalance or feature dependencies.\n",
        "Or we can do Flagging as a precautionary measure\n",
        "Treat customers with Num_of_Loan > 4 as higher risk by default."
      ],
      "metadata": {
        "id": "E1FHHexOifp6"
      }
    },
    {
      "cell_type": "markdown",
      "source": [
        "**CHART 12- PAYMENT OF MIN AMOUNT Vs ANNUAL INCOME -BAR CHART (Bivariate Analysis)**"
      ],
      "metadata": {
        "id": "6TVs1Y1bnCOl"
      }
    },
    {
      "cell_type": "code",
      "source": [
        "income_summary = new_df.groupby(\"Payment_of_Min_Amount\")[\"Annual_Income\"].median().reset_index()\n",
        "\n",
        "fig = px.bar(\n",
        "    income_summary,\n",
        "    x=\"Payment_of_Min_Amount\",\n",
        "    y=\"Annual_Income\",\n",
        "    color=\"Payment_of_Min_Amount\",\n",
        "    title=\"Median Annual Income by Payment of Minimum Amount\",\n",
        "    text=\"Annual_Income\"\n",
        ")\n",
        "\n",
        "fig.update_traces(texttemplate='%{text:.2s}', textposition=\"outside\")\n",
        "\n",
        "fig.update_layout(\n",
        "    height=600, width=900,\n",
        "    title_font=dict(size=20, color=\"darkblue\"),\n",
        "    font=dict(size=14, color=\"darkblue\"),\n",
        "    yaxis_title=\"Median Annual Income\"\n",
        ")\n",
        "\n",
        "fig.show()\n",
        "\n"
      ],
      "metadata": {
        "id": "mz4B6uYZnCpo"
      },
      "execution_count": null,
      "outputs": []
    },
    {
      "cell_type": "markdown",
      "source": [
        "Firstly we have done \"df.groupby(\"Payment_of_Min_Amount\")\"- It builds a GroupBy object that groups rows with the unique values in the Payment_of_Min_Amount column. No aggregation happens yet.\n",
        "\n",
        "\"df.groupby(\"Payment_of_Min_Amount\")[\"Annual_Income\"]\"- From that GroupBy object we select the Annual_Income column. Internally that becomes a SeriesGroupBy (groups of numeric values).\n",
        "\n",
        "\"df.groupby(\"Payment_of_Min_Amount\")[\"Annual_Income\"].median()\"- Now its the aggregation step which calculates median value for each category\n",
        "\n",
        "**1. Why did you pick the specific chart?**\n",
        "\n",
        "I used a bar chart of medians because it provides a clear and direct comparison of income levels across the two categories of Payment_of_Min_Amount (Yes, No). Since incomes are numeric and skewed, the median gives a better idea of the “typical” customer than the mean (less distorted by very high incomes). A bar chart is straightforward for business decision-making because it highlights which group earns more or less.\n",
        "\n",
        "**2. What is/are the insight(s) found from the chart?**\n",
        "\n",
        "Yes (Pay Minimum):\n",
        "Median income ≈ ₹32k — these customers earn the least on average.\n",
        "No (Do Not Pay Minimum):\n",
        "Median income ≈ ₹43k — this group has the highest incomes.\n",
        "\n",
        "Lower-income customers are more likely to pay only the minimum. This is a warning sign: they may struggle to repay in full and carry higher risk of debt accumulation.\n",
        "\n",
        "Higher-income customers are less likely to stick to minimum payments, showing better repayment ability and healthier credit behavior.\n",
        "\n",
        "**3.Will the gained insights help creating a positive business impact?**\n",
        "**Are there any insights that lead to negative growth? Justify with specific** **reason.**\n",
        "Positive impacts (actionable use):\n",
        "\n",
        "When underwriting loans, the company should flag applicants who pay only the minimum and also have lower income — these customers are at higher risk of default or long-term debt accumulation.\n",
        "Conversely, customers who do not pay only the minimum and earn higher incomes are more financially reliable. Such individuals can be offered better credit terms, lower interest rates, or higher credit limits.\n",
        "\n",
        "Negative implications / risks:\n",
        "\n",
        "Over-reliance on income alone could exclude some low-income but disciplined payers, reducing inclusivity."
      ],
      "metadata": {
        "id": "fDDJfpmEtN6a"
      }
    },
    {
      "cell_type": "code",
      "source": [
        "print(income_summary)"
      ],
      "metadata": {
        "id": "iHfipoE_04MY"
      },
      "execution_count": null,
      "outputs": []
    },
    {
      "cell_type": "markdown",
      "source": [
        "### **CHART 13- RELATION BETWEEN CREDIT SCORE AND AGE GROUPS CREDITSCORE-BARCHART(Bivariate Analysis)**"
      ],
      "metadata": {
        "id": "P2WN-7JK53K0"
      }
    },
    {
      "cell_type": "code",
      "source": [
        "# Create Age-wise groups\n",
        "bins = [18, 25, 35, 45, 55, 65, 120]  # 120 is upper bound for safety\n",
        "labels = [\"18-25\", \"25-35\", \"35-45\", \"45-55\", \"55-65\", \"65+\"]\n",
        "\n",
        "new_df[\"Age_Group\"] = pd.cut(new_df[\"Age\"], bins=bins, labels=labels, right=False)\n",
        "new_df['Age_Group'].value_counts()\n"
      ],
      "metadata": {
        "id": "W0fmxFW48Vty"
      },
      "execution_count": null,
      "outputs": []
    },
    {
      "cell_type": "code",
      "source": [
        "fig = px.histogram(\n",
        "    new_df,\n",
        "    x='Age_Group',\n",
        "    color='Credit_Score',\n",
        "    barmode='group',  # Grouped bars instead of stacked\n",
        "    title='Clustered Bar Chart: Age-wise Distribution Across Credit Score Categories',\n",
        "    labels={'Age_Group': 'Age Group', 'count': 'No. of Individuals'},\n",
        "    category_orders={'Age_Group': ['18-25', '25-35', '35-45', '45-55', '55-65', '65+']}\n",
        ")\n",
        "\n",
        "fig.update_layout(\n",
        "    xaxis_title='Age Group',\n",
        "    yaxis_title='No. of Individuals',\n",
        "    bargap=0.2\n",
        ")\n",
        "\n",
        "fig.show()"
      ],
      "metadata": {
        "id": "uWwy00wd9M2_"
      },
      "execution_count": null,
      "outputs": []
    },
    {
      "cell_type": "markdown",
      "source": [
        "**1. Why did you pick the specific chart?**\n",
        "\n",
        "We wanted to analyze the relationship between demographics (Age Groups) and credit health (Credit Score categories).\n",
        "Both variables are categorical, so a grouped bar chart is the best fit.\n",
        "Grouped bars allow us to compare counts of Good, Standard, and Poor credit scores side by side within each age group, which makes it very easy to spot differences across age categories.\n",
        "\n",
        "**2. What is/are the insight(s) found from the chart?**\n",
        "18–25 Age Group:\n",
        "Very few individuals, and the majority fall into Standard or Poor scores.\n",
        "Lending to this group is high risk, since they are young, have limited credit history, and repayment capacity may be weak.\n",
        "Decision: Approve only small-ticket loans with stricter eligibility checks.\n",
        "\n",
        "25–35 Age Group:\n",
        "Large number of applicants.\n",
        "A healthy proportion have Good scores, though there’s still a visible chunk in Standard and Poor.\n",
        "Decision: Good opportunity segment — target them with personal loans, credit cards, and auto loans, but still screen carefully for those in Poor.\n",
        "\n",
        "35–45 Age Group:\n",
        "One of the strongest segments — majority show Good scores, very few in Poor.\n",
        "Decision: Safest lending category, can be offered higher credit limits or preferential rates.\n",
        "\n",
        "45–55 Age Group:\n",
        "Still financially stable, but the share of Standard/Poor slightly rises compared to 35–45.\n",
        "Decision: Medium risk, but still reliable borrowers, especially for home loans or top-up loans.\n",
        "\n",
        "55–65 Age Group:\n",
        "Numbers shrink, but still a mix of Standard and Good.\n",
        "Decision: Approve cautiously — nearing retirement age means income stability may decline.\n",
        "\n",
        "65+ Age Group:\n",
        "Very few applicants, with noticeable Standard/Poor representation.\n",
        "Decision: High risk — lend sparingly, only against strong collateral.\n",
        "Credit health improves with age until mid-career (35–45), where Good scores dominate.\n",
        "\n",
        "Young borrowers (18–25) are the riskiest — low Good score share, likely due to lack of credit history.\n",
        "Older borrowers (>55) show mixed credit health — income instability in retirement years affects repayment ability.\n",
        "\n",
        "**3.Will the gained insights help creating a positive business impact?**\n",
        "\n",
        "Positive Impacts:\n",
        "Lenders can focus on 25–45 age groups where Good scores are dominant → ensures lower default rates and healthier loan books.\n",
        "Risk segmentation: Young (18–25) and Old (65+) can still be served with secured loans or small credit lines, keeping inclusivity while managing risk.\n",
        "Helps in personalized product design — e.g., starter credit cards for young borrowers, home loans for 30–40 segment, pension-backed loans for 55+.\n",
        "\n",
        "Negative Impacts (Risks):\n",
        "Over-reliance on age alone can cause age bias in lending. A disciplined 22-year-old may still be a safe borrower, while a 50-year-old with poor credit may default.\n",
        "Excluding older groups may reduce customer base in niche segments like retirement loans."
      ],
      "metadata": {
        "id": "TjTaciFUBEnH"
      }
    },
    {
      "cell_type": "markdown",
      "source": [
        "### **CHART 14- MONTHWISE DISTRIBUTION OF CREDIT SCORE -GROUPED BARCHART(Bivariate Analysis)**"
      ],
      "metadata": {
        "id": "bowIlYBQCxW5"
      }
    },
    {
      "cell_type": "code",
      "source": [
        "# Define proper month order\n",
        "month_order = [\n",
        "    \"January\", \"February\", \"March\",\n",
        "    \"April\", \"May\", \"June\",\n",
        "    \"July\", \"August\", \"September\",\n",
        "    \"October\", \"November\", \"December\"]\n",
        "\n",
        "# Plot histogram for month-wise distribution\n",
        "fig = px.histogram(\n",
        "    new_df,\n",
        "    x=\"Month\",\n",
        "    color=\"Credit_Score\",\n",
        "    barmode=\"group\",  # grouped by credit score\n",
        "    category_orders={\"Month\": month_order},\n",
        "    title=\"Month-wise Distribution of Credit Scores\",\n",
        "    labels={\"Month\": \"Month\", \"count\": \"Number of Applicants\"}\n",
        ")\n",
        "\n",
        "fig.update_layout(\n",
        "    xaxis_title=\"Month\",\n",
        "    yaxis_title=\"Number of Individuals\",\n",
        "    bargap=0.2,\n",
        "    height=600, width=950,\n",
        "    title_font=dict(size=20, color=\"darkblue\"),\n",
        "    font=dict(size=14, color=\"darkblue\")\n",
        ")\n",
        "\n",
        "fig.show()\n"
      ],
      "metadata": {
        "id": "pP40vLr1GPJA"
      },
      "execution_count": null,
      "outputs": []
    },
    {
      "cell_type": "markdown",
      "source": [
        "**1. Why did you pick the specific chart?**\n",
        "\n",
        "I used a grouped bar chart because it allows comparison of two categorical variables at once — Month and Credit_Score.\n",
        "It shows both seasonality trends (month-wise loan applications) and creditworthiness (score distribution).\n",
        "Month-wise analysis is important since financial behavior often changes with seasons (festivals, tax deadlines, bonus cycles, etc.).\n",
        "\n",
        "**2. What is/are the insight(s) found from the chart?**\n",
        "\n",
        "Application Volume Trend: Some months show higher loan applications than others, indicating possible seasonal peaks (e.g., festive seasons or year-start planning).\n",
        "Good Credit Scores: There are months where the proportion of Good scores is higher — lenders can treat these as relatively safer months for disbursement.\n",
        "Poor Credit Scores: In some months, Poor scores rise. This signals increased lending risk during those times.\n",
        "Stability of Standard Scores: Across many months, Standard scores dominate, showing that a majority of applicants fall in the average-risk category.\n",
        "\n",
        "\n",
        "**3.Will the gained insights help creating a positive business impact?**\n",
        "\n",
        "Positive Impact:\n",
        "\n",
        "Lenders can forecast demand month by month and prepare loan products accordingly.\n",
        "Can target promotions in months with higher Good scorers to maximize safe lending.\n",
        "Helps with resource planning (staffing, collections, risk checks) during high-volume months.\n",
        "\n",
        "Negative Impact:\n",
        "\n",
        "If lenders over-prioritize only safe months, they may miss out on opportunities in risky months where loan demand is high.\n",
        "Seasonal biases can create exclusion risks if not balanced with individual applicant assessment.\n"
      ],
      "metadata": {
        "id": "Ga7mm33lIxd4"
      }
    },
    {
      "cell_type": "markdown",
      "source": [
        "### **CHART 15- CREDIT INQUIRIES Vs CREDIT SCORE- BOXPLOT(Bivariate Analysis)**"
      ],
      "metadata": {
        "id": "GwGP1BQTXlWr"
      }
    },
    {
      "cell_type": "code",
      "source": [
        "# Boxplot: Credit Inquiries vs Credit Score\n",
        "fig_inquiries_credit = px.box(\n",
        "    new_df,\n",
        "    x=\"Credit_Score\",\n",
        "    y=\"Num_Credit_Inquiries\",\n",
        "    color=\"Credit_Score\",\n",
        "    title=\"Number of Credit Inquiries vs Credit Score\",\n",
        "    color_discrete_map={\"Poor\": \"red\", \"Standard\": \"blue\", \"Good\": \"green\"}\n",
        ")\n",
        "\n",
        "# Layout customization\n",
        "fig_inquiries_credit.update_layout(\n",
        "    height=600, width=900,\n",
        "    title_font=dict(size=20, color=\"darkblue\"),\n",
        "    font=dict(size=14, color=\"darkblue\"),\n",
        "    xaxis_title=\"Credit Score Category\",\n",
        "    yaxis_title=\"Number of Credit Inquiries\"\n",
        ")\n",
        "\n",
        "fig_inquiries_credit.show()\n"
      ],
      "metadata": {
        "id": "bnJ5dSKtX_lZ"
      },
      "execution_count": null,
      "outputs": []
    },
    {
      "cell_type": "markdown",
      "source": [
        "**1. Why did you pick the specific chart?**\n",
        "\n",
        "I picked a boxplot because it reveals the relationship between a numeric variable (number of credit inquiries) and a categorical outcome (credit score). Frequent credit inquiries often signal financial stress or aggressive loan-seeking behavior, which directly impacts credit risk.\n",
        "\n",
        "**2. What is/are the insight(s) found from the chart?**\n",
        "\n",
        "Poor scorers show the highest number of credit inquiries, confirming over-borrowing or credit desperation.\n",
        "Good scorers usually have very few inquiries, reflecting financial stability.\n",
        "Standard scorers lie in the middle, but lean toward Poor with moderate inquiry frequency.\n",
        "This shows a clear negative correlation: more inquiries → lower credit score.\n",
        "\n",
        "**3.Will the gained insights help creating a positive business impact?**\n",
        "\n",
        "Positive:\n",
        "\n",
        "Insights can help in early risk detection: customers making too many inquiries within a short time frame can be flagged as risky.\n",
        "It can prevent loan defaults by reducing approvals to financially stressed applicants.\n",
        "\n",
        "Negative:\n",
        "\n",
        "Not all inquiries are bad — some may be due to rate shopping by financially savvy customers. If treated too harshly, Paisabazaar may lose high-quality clients.\n",
        "Hence, insights should be combined with repayment history and income stability before decision-making."
      ],
      "metadata": {
        "id": "ZVpcUcqoYLPN"
      }
    },
    {
      "cell_type": "markdown",
      "source": [
        "### **CHART 16- ANNUAL INCOME Vs NO OF LOANS TAKEN COLOURED BY CREDIT SCORE(BUBBLE SIZE- OUTSTANDING DEBT -SCATTER CHART(Multivariate Analysis)**\n",
        "\n",
        "Multivariate analysis is the statistical study of more than two variables at the same time to understand their combined relationships and influence on outcomes.\n",
        "\"Multi\" → many\n",
        "\"Variate\" → variables\n",
        "It looks beyond pairwise comparisons (bivariate) and explores how several features interact together."
      ],
      "metadata": {
        "id": "kt20ed8wMjWt"
      }
    },
    {
      "cell_type": "code",
      "source": [
        "# --- Scatter:Annual Income vs Number of Loans Colored by Credit Score (Bubble Size = Outstanding_Debt)\n",
        "\n",
        "fig = px.scatter(\n",
        "    new_df,\n",
        "    x=\"Annual_Income\",\n",
        "    y=\"Num_of_Loan\",\n",
        "    color=\"Credit_Score\",\n",
        "    size=\"Outstanding_Debt\",\n",
        "    hover_data=[\"Monthly_Balance\"],\n",
        "    title=\"Annual Income vs Number of Loans Colored by Credit Score (Bubble Size = Outstanding_Debt)\"\n",
        ")\n",
        "\n",
        "# Layout customization\n",
        "fig.update_layout(\n",
        "    height=650, width=1010,\n",
        "    title_font=dict(size=20, color=\"darkblue\"),\n",
        "    font=dict(size=14, color=\"darkblue\"),\n",
        "    xaxis_title=\"Annual Income\",\n",
        "    yaxis_title=\"Num of Loans\"\n",
        ")\n",
        "\n",
        "fig.show()\n"
      ],
      "metadata": {
        "id": "8ZEhG3nTMjw8"
      },
      "execution_count": null,
      "outputs": []
    },
    {
      "cell_type": "markdown",
      "source": [
        "**1. Why did you pick the specific chart?**\n",
        "\n",
        "A scatter plot with bubble size and color lets us analyze 4 key variables in one visualization:\n",
        "X-axis: Annual Income (earning capacity)\n",
        "Y-axis: Number of Loans (credit burden)\n",
        "Bubble size: Outstanding Debt (obligation level)\n",
        "Color: Credit Score (risk classification)\n",
        "\n",
        "**2. What is/are the insight(s) found from the chart?**\n",
        "\n",
        "High number of loans strongly correlates with poor credit health\n",
        "Poor Credit Score Borrowers (High Risk)-\n",
        "Mostly in the upper-left region → many loans, low income, majority having loans more than 4.\n",
        "These customers are overleveraged — they borrow more than they can handle.\n",
        "They pose the highest default risk, and should be flagged for stricter checks or offered loan consolidation instead of new credit.\n",
        "\n",
        "Standard Credit Score Borrowers (Moderate Risk)-\n",
        "Spread across middle bands of loans (2–4) with medium-sized bubbles.\n",
        "This group is the \"grey zone\". They are not in immediate danger but not fully safe either.Good candidates for closer monitoring (watchlist segment).\n",
        "Lenders should offer smaller ticket loans or gradual limit increases, but avoid aggressive exposure.\n",
        "\n",
        "Good Credit Score Borrowers (Low Risk / Prime Segment)-\n",
        "Mostly in the bottom-right → high income, few loans, small bubbles.\n",
        "These are ideal customers: stable incomes, low borrowing, and good repayment history.\n",
        "They should be prioritized for pre-approved loans, higher credit limits, or premium products.\n",
        "Business growth can come from upselling to this group safely.\n",
        "\n",
        "**3.Will the gained insights help creating a positive business impact?**\n",
        "\n",
        "Positive Business Impacts:\n",
        "Targeted loan restructuring or advisory for:\n",
        "Poor credit customers with high loans and high debt.\n",
        "Upsell opportunities to customers with Standard scores and manageable loans.\n",
        "Cross-sell or loyalty programs for Good score individuals to retain quality customers.\n",
        "Insights Leading to Potential Negative Growth:\n",
        "Many high-income customers are still in the Poor credit segment with high loan counts → Indicates:\n",
        "\n",
        "Even high-income customers show high levels of debt, indicating over-reliance on credit.\n",
        "High earners are not immune to missing payments or accumulating bad debt.\n",
        "If not addressed, this could lead to increased bad debt and losses, despite a seemingly strong customer base.\n"
      ],
      "metadata": {
        "id": "9rkWmetLRHX9"
      }
    },
    {
      "cell_type": "markdown",
      "source": [
        "**CHART 17- CORRELATION HEAT MAP OF KEY FINANCIAL VARIABLES(Multivariate Analysis)**"
      ],
      "metadata": {
        "id": "vk4oD6XPZqF7"
      }
    },
    {
      "cell_type": "code",
      "source": [
        "# Select key financial variables\n",
        "cols = [\n",
        "    \"Annual_Income\", \"Outstanding_Debt\", \"Credit_Utilization_Ratio\",\n",
        "    \"Num_of_Loan\", \"Monthly_Balance\", \"Total_EMI_per_month\"\n",
        "]\n",
        "\n",
        "plt.figure(figsize=(10, 6))\n",
        "sns.heatmap(\n",
        "    new_df[cols].corr(),\n",
        "    annot=True,\n",
        "    cmap=\"coolwarm\",\n",
        "    fmt=\".2f\",\n",
        "    linewidths=0.5\n",
        ")\n",
        "plt.title(\"Correlation Heatmap of Key Financial Variables\", fontsize=14, color=\"darkblue\")\n",
        "plt.show()\n"
      ],
      "metadata": {
        "id": "n7NiWj5lZqfl"
      },
      "execution_count": null,
      "outputs": []
    },
    {
      "cell_type": "markdown",
      "source": [
        "**1. Why did you pick the specific chart?**\n",
        "I used a heatmap because it is the most effective way to visualize correlations between multiple numeric variables at once. Instead of reading a large correlation table full of numbers, the heatmap shows the strength of relationships through color intensity, which makes patterns stand out instantly.\n",
        "\n",
        "**2. What is/are the insight(s) found from the chart?**\n",
        "\n",
        "Key Correlations in this Heatmap\n",
        "\n",
        "Annual Income ↔ Monthly Balance (0.63, strong positive)\n",
        "Higher income individuals maintain a healthier monthly balance.\n",
        "👉 Business: Safer borrowers, lower default risk.\n",
        "\n",
        "Num_of_Loan ↔ Outstanding Debt (0.64, strong positive)\n",
        "More loans = higher outstanding debt.\n",
        "👉 Business: Multiple loans increase credit risk.\n",
        "\n",
        "Annual Income ↔ Total EMI per month (0.44, moderate positive)\n",
        "Higher income borrowers generally have higher EMIs (they can afford bigger loans).\n",
        "👉 Business: Normal, but needs balance — EMI load shouldn’t cross repayment capacity.\n",
        "\n",
        "Num_of_Loan ↔ Monthly Balance (-0.43, moderate negative)\n",
        "More loans = lower monthly balance left after expenses.\n",
        "👉 Business: This is a warning sign — borrowers juggling multiple loans may face liquidity issues.\n",
        "\n",
        "Outstanding Debt ↔ Monthly Balance (-0.32, moderate negative)\n",
        "Higher debt reduces monthly balance.\n",
        "👉 Business: Indicates repayment stress for highly indebted customers.\n",
        "\n",
        "Credit Utilization Ratio ↔ Other Variables (very weak correlations)\n",
        "Credit utilization ratio doesn’t strongly correlate with debt, income, or loans here.\n",
        "👉 Business: CUR is behaving independently, which makes it an important standalone risk predictor.\n",
        "\n",
        "**3.Will the gained insights help creating a positive business impact?**\n",
        "Yes, the insights will drive positive business impact in multiple ways:\n",
        "\n",
        "Better Risk Segmentation\n",
        "By knowing that borrowers with multiple loans and high debt usually have low monthly balances, the business can tighten lending policies for such profiles.\n",
        "This reduces chances of default.\n",
        "\n",
        "Possible Negative Impact if Ignored:\n",
        "If the company lends freely to multi-loan borrowers with low balances, defaults will rise.\n",
        "Misinterpreting correlations (e.g., assuming high EMI always means risk, when it might just mean high income) could limit business unnecessarily."
      ],
      "metadata": {
        "id": "e2vShv2xbOFE"
      }
    },
    {
      "cell_type": "markdown",
      "source": [
        "**CHART 18- DISTRIBUTION OF ANNUAL INCOME ACROSS CREDIT SCORES-VIOLIN CHART(Bivariate Analysis)**"
      ],
      "metadata": {
        "id": "TZqSC0gWfGUi"
      }
    },
    {
      "cell_type": "code",
      "source": [
        "import plotly.express as px\n",
        "\n",
        "# Violin plot to show income distribution by credit score\n",
        "fig = px.violin(\n",
        "    new_df,\n",
        "    x=\"Credit_Score\",\n",
        "    y=\"Annual_Income\",\n",
        "    color=\"Credit_Score\",\n",
        "    box=True,  # add mini boxplot inside\n",
        "    points=\"all\",  # show individual points\n",
        "    title=\"Distribution of Annual Income Across Credit Score Categories\"\n",
        ")\n",
        "\n",
        "fig.update_layout(\n",
        "    height=650, width=950,\n",
        "    title_font=dict(size=20, color=\"darkblue\"),\n",
        "    font=dict(size=14, color=\"darkblue\"),\n",
        "    xaxis_title=\"Credit Score Category\",\n",
        "    yaxis_title=\"Annual Income\"\n",
        ")\n",
        "\n",
        "fig.show()\n"
      ],
      "metadata": {
        "id": "TgIHitSIfGuj"
      },
      "execution_count": null,
      "outputs": []
    },
    {
      "cell_type": "markdown",
      "source": [
        "**1. Why did you pick the specific chart?**\n",
        "\n",
        "I have chosen this because unlike a bar/box plot, the violin shape shows where most borrowers are concentrated.Shows Distribution + Density Together\n",
        "\n",
        "\n",
        "**2. What is/are the insight(s) found from the chart?**\n",
        "\n",
        "Poor Credit Score Group:\n",
        "Most borrowers fall in the lower income range, with very few high-income individuals. This confirms that low income is strongly associated with poor credit behavior.\n",
        "\n",
        "Standard Credit Score Group:\n",
        "Distribution is wider. Borrowers are spread across low to middle incomes, suggesting that this group is financially diverse and not as predictable purely by income.\n",
        "\n",
        "Good Credit Score Group:\n",
        "Majority of borrowers fall in middle-to-high income ranges with higher concentration around stable income bands. This indicates that steady or higher income supports good credit discipline.\n",
        "\n",
        "**3.Will the gained insights help creating a positive business impact?**\n",
        "\n",
        "Yes, definitely.\n",
        "Better Credit Segmentation:\n",
        "Since income distribution varies strongly by credit score, the business can set clear income thresholds for lending (e.g., avoid risky low-income segments for unsecured loans).\n",
        "Negative Risk if Misused:\n",
        "If the company assumes that all high-income borrowers are safe, it may miss cases of high-income but poor scorers (outliers seen in the violin plot). These must be carefully screened.\n"
      ],
      "metadata": {
        "id": "nArjDXbDfpnJ"
      }
    },
    {
      "cell_type": "code",
      "source": [
        "print(df.columns.tolist())\n"
      ],
      "metadata": {
        "id": "VM59yxJtgI2s"
      },
      "execution_count": null,
      "outputs": []
    },
    {
      "cell_type": "markdown",
      "source": [
        "**CHART 19- ANNUAL INCOME Vs OUTSTANDING DEBT(BUBBLE SIZE- NO OF LOANS)COLOUR- DELAYED PAYMENTS- SCATTER CHART(Multivariate Analysis)**"
      ],
      "metadata": {
        "id": "yCp2ooQdxF8a"
      }
    },
    {
      "cell_type": "code",
      "source": [
        "# Select required columns and drop rows with missing values\n",
        "df_plot = df[['Annual_Income', 'Outstanding_Debt', 'Num_of_Loan', 'Num_of_Delayed_Payment']].dropna()\n",
        "\n",
        "# Create scatter plot\n",
        "plt.figure(figsize=(15,8))\n",
        "scatter = plt.scatter(\n",
        "    df_plot['Annual_Income'],\n",
        "    df_plot['Outstanding_Debt'],\n",
        "    s=df_plot['Num_of_Loan']*20,   # Bubble size = number of loans\n",
        "    c=df_plot['Num_of_Delayed_Payment'],   # Color = delayed payments\n",
        "    cmap='viridis',\n",
        "    alpha=0.7,\n",
        "    edgecolor='k'\n",
        ")\n",
        "\n",
        "# Add colorbar\n",
        "plt.colorbar(scatter, label=\"Number of Delayed Payments\")\n",
        "\n",
        "# Labels and title\n",
        "plt.xlabel(\"Annual Income\")\n",
        "plt.ylabel(\"Outstanding Debt\")\n",
        "plt.title(\"Annual Income vs Outstanding Debt \\n(Bubble size = Number of Loans, Color = Delayed Payments)\")\n",
        "\n",
        "plt.show()\n"
      ],
      "metadata": {
        "id": "LN1VG6JugxLy"
      },
      "execution_count": null,
      "outputs": []
    },
    {
      "cell_type": "markdown",
      "source": [
        "**1. Why did you pick the specific chart?**\n",
        "\n",
        "I have chosen this because it shows 4 dimensions at once — the scatter + bubble size + color encodes income, debt, loan count, and delayed payments in a single visual\n",
        "\n",
        "**2. What is/are the insight(s) found from the chart?**\n",
        "\n",
        "Loan count strongly drives debt.\n",
        "Num_of_Loan and Outstanding_Debt correlation ≈ +0.64. Larger bubbles tend to appear higher on the Y-axis → more loans → more outstanding debt.\n",
        "Higher loan counts concentrate in lower-income bands.\n",
        "Debt burden is skewed toward lower incomes.\n",
        "Delayed payments (color) identify behavioral risk on top of exposure.\n",
        "\n",
        "**3.Will the gained insights help creating a positive business impact?**\n",
        "\n",
        "Yes,\n",
        "We can flag the risky borrower ranges as per their credit patterns reflecting from the chart like\n",
        "Greater than 4-5 loans leads to more outstanding debt patterns\n",
        "Annual income less than 50k and no of loans greater than 4 should be red flagged and should be reviewed if customer requests for further credit\n",
        "Monitoring & early-warning\n",
        "\n"
      ],
      "metadata": {
        "id": "BDdn650Ymt4H"
      }
    },
    {
      "cell_type": "markdown",
      "source": [
        "**CHART 20- RELATIONSHIP ACROSS VARIOUS FIANCIAL VARIABLES-PAIRPLOT CHART(Multivariate Analysis)**"
      ],
      "metadata": {
        "id": "b2ewSdqHxDx_"
      }
    },
    {
      "cell_type": "code",
      "source": [
        "sns.pairplot(new_df[['Age','Annual_Income','Monthly_Balance','Outstanding_Debt',\n",
        "                     'Credit_Utilization_Ratio','Num_Credit_Inquiries',]],\n",
        "             diag_kind=\"kde\", plot_kws={\"alpha\":0.6})\n",
        "plt.suptitle(\"Pair Plot of Selected Financial Variables\", y=1.02)\n",
        "plt.show()"
      ],
      "metadata": {
        "id": "1ebKjBm2vlnp"
      },
      "execution_count": null,
      "outputs": []
    },
    {
      "cell_type": "markdown",
      "source": [
        "**1. Why did you pick the specific chart?**\n",
        "\n",
        "The pair plot helps to visualize any patterns or outliers in the data and to conduct multivariate analysis. Hence to explore relationships between key variables like Age, Income, Balance Debt, Utilization, and Inquiries pairplot was chosen.\n",
        "\n",
        "**2. What is/are the insight(s) found from the chart?**\n",
        "\n",
        "Age has no relationship with credit utilization ratio and annual income as all the point are dispersed across the graph.\n",
        "\n",
        "Credit Utilization Ratio and Outstanding Debt have a clear positive correlation. This shows that higher outstanding debt leads to higher credit utilization.\n",
        "\n",
        "The relation between Age and Number of Credit Inquiries shows that younger individuals tend to have more credit inquiries, which may affect their credit scores negatively."
      ],
      "metadata": {
        "id": "Jbm0lrNzxA3q"
      }
    },
    {
      "cell_type": "markdown",
      "source": [
        "## **5. Solution to Business Objective**"
      ],
      "metadata": {
        "id": "vmncegNCzHtX"
      }
    },
    {
      "cell_type": "markdown",
      "source": [
        "\n",
        "The business objective was to analyze customer credit-related data and build a reliable approach to classify credit scores into categories (Good, Standard, Poor).\n",
        "\n",
        "1- Through EDA (Exploratory Data Analysis), we identified the most influential factors impacting credit scores — such as number of delayed payments, outstanding debt, annual income, number of credit inquiries, and credit utilization ratio.\n",
        "\n",
        "2- Using statistical analysis and multivariate visualizations, we observed strong behavioral patterns:\n",
        "\n",
        "Higher delayed payments and more credit inquiries strongly correlate with Poor credit scores.\n",
        "\n",
        "Lower outstanding debt and controlled credit utilization are characteristics of Good scorers.\n",
        "\n",
        "Majority of customers fall in the Standard category, showing potential for targeted improvement.\n",
        "\n",
        "3- By applying these insights, we can develop predictive models that classify individual's credit scores accurately. This helps Paisabazaar minimize default risks, improve lending precision, and personalize product offerings.\n",
        "\n",
        "Thus, the solution to the business objective is the creation of a data-driven credit score classification system that enhances creditworthiness assessment."
      ],
      "metadata": {
        "id": "W6Akwcbvacyy"
      }
    },
    {
      "cell_type": "markdown",
      "source": [
        "**What do you suggest to the client to achieve Business Objective ?**\n"
      ],
      "metadata": {
        "id": "WLtkPshdzQtu"
      }
    },
    {
      "cell_type": "markdown",
      "source": [
        "**To fully leverage these insights, Paisabazaar should:**\n",
        "\n",
        "* Adopt Predictive Modeling in Credit Assessment\n",
        "\n",
        "* Deploy ML models trained on key features (income, delayed payments, inquiries, utilization ratio).\n",
        "\n",
        "* Continuously retrain with new customer data to improve accuracy.\n",
        "\n",
        "* Risk Segmentation & Lending Policies\n",
        "\n",
        "* Flag high-risk applicants (frequent delayed payments + high inquiries).\n",
        "\n",
        "* Offer low-risk clients better interest rates and personalized products.\n",
        "\n",
        "* Create custom loan terms for “Standard” customers to move them towards “Good.”\n",
        "\n",
        "* Customer Education & Engagement\n",
        "\n",
        "* Provide financial literacy tools showing how behaviors (timely payments, reduced inquiries) can improve their credit scores.\n",
        "\n",
        "* Use personalized dashboards for customers to monitor their own creditworthiness.\n",
        "\n",
        "* Business Growth Alignment\n",
        "\n",
        "Lower defaults = better lender trust = higher business growth.\n",
        "\n",
        "Smarter segmentation = better targeting of financial products.\n",
        "\n",
        "Improved customer satisfaction = long-term client retention.\n",
        "\n",
        "**In brief:**\n",
        "Paisabazaar can achieve the business objective by integrating predictive analytics with customer engagement. This ensures smarter credit risk decisions, reduced defaults, and stronger financial product recommendations — creating a positive business impact for both the company and its customers.\n"
      ],
      "metadata": {
        "id": "aw_IPrXOaQDC"
      }
    },
    {
      "cell_type": "markdown",
      "source": [
        "# **Conclusion**"
      ],
      "metadata": {
        "id": "ySBRT-RtzWQe"
      }
    },
    {
      "cell_type": "markdown",
      "source": [
        "This project successfully addressed Paisabazaar's key challenges of improving -credit score classification by leveraging customer financial data.\n",
        "\n",
        "Through detailed exploratory and multivariate analysis, we identified critical factors influencing creditworthiness,listed below-\n",
        "* income\n",
        "* delayed payments\n",
        "* outstanding debt\n",
        "* credit utilization\n",
        "\n",
        "The insights highlight that while the majority of individuals fall into the “Standard” credit score range, a significant portion still lies in the “Poor” category, signaling both risks and opportunities. By implementing predictive models and adopting data-driven lending strategies, Paisabazaar can\n",
        "* minimize loan defaults,\n",
        "* optimize lending decisions,\n",
        "* design tailored financial products\n",
        "* target right customers through eligibility crieteria\n",
        "\n",
        "Furthermore, customer-focused education on repayment behaviors can help improve creditworthiness over time. Ultimately, these strategies empower Paisabazaar to reduce financial risks, enhance customer trust, and drive sustainable business growth."
      ],
      "metadata": {
        "id": "bPekzskYcDIO"
      }
    }
  ],
  "metadata": {
    "colab": {
      "provenance": [],
      "include_colab_link": true
    },
    "kernelspec": {
      "display_name": "Python 3",
      "name": "python3"
    }
  },
  "nbformat": 4,
  "nbformat_minor": 0
}